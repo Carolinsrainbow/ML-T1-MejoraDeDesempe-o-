{
  "nbformat": 4,
  "nbformat_minor": 0,
  "metadata": {
    "kernelspec": {
      "display_name": "R",
      "language": "R",
      "name": "ir"
    },
    "language_info": {
      "codemirror_mode": "r",
      "file_extension": ".r",
      "mimetype": "text/x-r-source",
      "name": "R",
      "pygments_lexer": "r",
      "version": "3.3.1"
    },
    "colab": {
      "name": "ML- Ejercicio 1 (R) - Mejoras en el Desempeño de Modelos de Clasificación (ratio = 0.9 & sep datos 80/20)",
      "provenance": [],
      "collapsed_sections": [],
      "toc_visible": true
    }
  },
  "cells": [
    {
      "cell_type": "markdown",
      "metadata": {
        "id": "AEA4r6FfIRE5"
      },
      "source": [
        "# Ejercicio 1 - Mejoras en el Desempeño de Modelos de Clasificación\n",
        "\n",
        "Este ejercicio se centra en el entrenamiento y evaluación de algunos modelos modelos de clasificación, sobre un conjunto de datos de campañas de marketing de productos bancarios, aplicando algunas estrategias de mejora del rendimiento de los modelos. \n",
        "\n",
        "## Contexto: Análisis de éxito en campaña de marketing\n",
        "\n",
        "Fuente: https://archive.ics.uci.edu/ml/datasets/Bank+Marketing\n",
        "\n",
        "El foco está en la implementación de una red neuronal para clasificación y la comparación de su desempeño con otro modelo de clasificación para predicir el valor de un atributo, desde un *dataset* de información de un resultados de personas contactadas por una campaña de marketing y que compraron la oferta (atributo \"OK\"), con cerca de 41.200 registros de personas contactadas.\n",
        "\n",
        "Este conjunto de datos (abierto para este tipo de usos instruccionales), consiste en 20 atributos y 1 clase de etiquetas (totalizando 21 columnas) y corresponde a los datos de una campaña telefónica a diversos clientes en Portugal, ofreciéndoles la compra de un producto bancario. En varios casos, un cliente fue contactado varias veces antes de aceptar el el depósito a plazo ofrecido por la campaña (OK = yes). \n",
        "\n",
        "Algunos de los atributos relevantes son (combinando atributos categóricos, con numéricos):\n",
        "* **Datos personales**: Edad, Ocupación, Estado Civil, Nivel de Educación.\n",
        "* **Datos financieros**: Su casa tiene crédito hipotecario, default: si el crédito ha caído en quiebra; tiene un crédito de consumo.\n",
        "* **Datos de contactos de la campaña actual**: Tipo de Comunicación (celular o teléfono fijo); Mes del último contacto; Día de la semana del contacto; duración de la llamada (segundos); Contacto: N° de contactos durante la campaña; DíasAtrás: días transcurridos desde último contacto; Resultado: resultado de la última llamada (falló, no-existe, éxito)\n",
        "* **Datos socioeconómicos**: EmpTasaVar: tasa de variación de empleabilidad; IPC: índice de precios consumidor mensual; ICC: índice de confianza consumidor mensual; Euribor3m: tasa euribor de 3 meses indicador diario; NumEmpleados: cantidad de gente empleada, en indicador trimestral. \n",
        "\n",
        "Esta adaptación en particular, por Rodrigo Sandoval y el equipo de R:Solver (RSolver.com), enfrenta diferentes objetivos de aprendizaje dentro de los cursos de Big Data y Machine Learning.\n",
        "\n"
      ]
    },
    {
      "cell_type": "markdown",
      "metadata": {
        "id": "BhFF63rsMfbI"
      },
      "source": [
        "## Instrucciones Generales\n",
        "En este caso, se busca entender el comportamiento y desempeño de diferentes modelos de clasificación sobre este conjunto de datos, para predecir la variable de interés: **OK**, que servirá para predecir en casos futuros, según los datos de contactabilidad de un cliente, si el cliente aceptará o no contratar el depósito a plazo.\n",
        "\n",
        "Todos los alumnos, ya sea en grupo, o individualmente (si no tienen compañeros), deben contestar las preguntas que se indican en las secciones de \"Preguntas\", más adelante. Se puede recurrir a ejercicios de otras fuentes, así como al material de clases.\n",
        "\n",
        "El formato del email es:\n",
        "\n",
        "To: rsandova@ing.puc.cl\n",
        "\n",
        "Subject: Machine Learning - Ejercicio 1 - (AÑO)(MES)(DÍA)\n",
        "\n",
        "Integrantes alfabéticamente: nombre y apellido, nombre y apellido, ...\n",
        "\n",
        "Pregunta 1: ...\n",
        "\n",
        "Pregunta 2: ...\n",
        "\n",
        "..."
      ]
    },
    {
      "cell_type": "markdown",
      "metadata": {
        "id": "nbsvny1wYwsT"
      },
      "source": [
        "## Paso 1: Instalar las librerías de modelos de clasificación\n",
        "\n",
        "Esto se ejecuta sólo una vez al comienzo de la sesión de cada persona. No se necesita volver a ejecutar con cada nueva prueba del resto de los scripts."
      ]
    },
    {
      "cell_type": "code",
      "metadata": {
        "id": "Yr8D6ajXY2T9",
        "colab": {
          "base_uri": "https://localhost:8080/"
        },
        "outputId": "246f8258-ad73-4d93-dfa1-cc0e5199ff89"
      },
      "source": [
        "install.packages('e1071')\n",
        "install.packages('caret')\n",
        "install.packages('rpart')\n",
        "install.packages('rpart.plot')\n",
        "install.packages('randomForest')\n"
      ],
      "execution_count": null,
      "outputs": [
        {
          "output_type": "stream",
          "text": [
            "Installing package into ‘/usr/local/lib/R/site-library’\n",
            "(as ‘lib’ is unspecified)\n",
            "\n",
            "also installing the dependency ‘proxy’\n",
            "\n",
            "\n",
            "Installing package into ‘/usr/local/lib/R/site-library’\n",
            "(as ‘lib’ is unspecified)\n",
            "\n",
            "also installing the dependencies ‘numDeriv’, ‘SQUAREM’, ‘lava’, ‘prodlim’, ‘iterators’, ‘gower’, ‘ipred’, ‘timeDate’, ‘foreach’, ‘plyr’, ‘ModelMetrics’, ‘reshape2’, ‘recipes’, ‘pROC’\n",
            "\n",
            "\n",
            "Installing package into ‘/usr/local/lib/R/site-library’\n",
            "(as ‘lib’ is unspecified)\n",
            "\n",
            "Installing package into ‘/usr/local/lib/R/site-library’\n",
            "(as ‘lib’ is unspecified)\n",
            "\n",
            "Installing package into ‘/usr/local/lib/R/site-library’\n",
            "(as ‘lib’ is unspecified)\n",
            "\n"
          ],
          "name": "stderr"
        }
      ]
    },
    {
      "cell_type": "markdown",
      "metadata": {
        "id": "0q3bYb0RM5bx"
      },
      "source": [
        "## Paso 2: Carga de los datos\n",
        "\n",
        "La siguiente celda de código, carga los datos desde la URL de origen y luego muestra un encabezado con las primeras filas del dataset, para demostrar la disponibilidad de los datos.\n",
        "\n",
        "Esto también puede ser ejecutado una sola vez, o volver a ejecutar cuando se necesite trabajar con los datos originales, nuevamente."
      ]
    },
    {
      "cell_type": "code",
      "metadata": {
        "id": "yIIKPnj-IRE8",
        "colab": {
          "base_uri": "https://localhost:8080/",
          "height": 754
        },
        "outputId": "8594d204-dd06-4350-c109-5ea1b9f5f98a"
      },
      "source": [
        "# Se declara la URL de dónde obtener los datos\n",
        "theUrlMain <- \"http://www.rsolver.com/dcc/docs/bank-additional-full.csv\"\n",
        "\n",
        "# Se declaran los nombres de las columnas\n",
        "columnas = c(\"Edad\",\"Ocupación\",\"EstadoCivil\",\"Educación\",\"Default\",\"Hipotecario\",\"Consumo\",\"Contacto\",\"Mes\",\"Día\",\n",
        "             \"Duración\",\"NumContactos\",\"DíasAtrás\",\"Previo\",\"ResultadoPrevio\", \"EmpTasaVar\", \"IPC\", \"ICC\", \"Euribor3m\", \"NumEmpleados\", \"OK\")\n",
        "\n",
        "# Se cargan datos principales a una estructura (marketing.data), asignando nombres de atributos a las columnas.\n",
        "# Nótese que se incluye la conversión de valores \"unknown\" a \"NA\" para facilitar la gestión vacíos más adelante.\n",
        "marketing.data <- read.table(file = theUrlMain, header = TRUE, sep = \";\", col.names = columnas, na.strings=c(\"unknown\",\"NA\"))\n",
        "\n",
        "# Se muestran las primeras líneas del dataset, incluyendo nombres asignados a las columnas.\n",
        "# Nótese que ya no hay \"unknown\", sino que sólo \"NA\", lo que permite a las operaciones is.na() y na.omit() operar fácilmente\n",
        "head(marketing.data, 20)\n",
        "dim(marketing.data)\n"
      ],
      "execution_count": null,
      "outputs": [
        {
          "output_type": "display_data",
          "data": {
            "text/plain": [
              "   Edad Ocupación   EstadoCivil Educación           Default Hipotecario Consumo\n",
              "1  56   housemaid   married     basic.4y            no      no          no     \n",
              "2  57   services    married     high.school         NA      no          no     \n",
              "3  37   services    married     high.school         no      yes         no     \n",
              "4  40   admin.      married     basic.6y            no      no          no     \n",
              "5  56   services    married     high.school         no      no          yes    \n",
              "6  45   services    married     basic.9y            NA      no          no     \n",
              "7  59   admin.      married     professional.course no      no          no     \n",
              "8  41   blue-collar married     NA                  NA      no          no     \n",
              "9  24   technician  single      professional.course no      yes         no     \n",
              "10 25   services    single      high.school         no      yes         no     \n",
              "11 41   blue-collar married     NA                  NA      no          no     \n",
              "12 25   services    single      high.school         no      yes         no     \n",
              "13 29   blue-collar single      high.school         no      no          yes    \n",
              "14 57   housemaid   divorced    basic.4y            no      yes         no     \n",
              "15 35   blue-collar married     basic.6y            no      yes         no     \n",
              "16 54   retired     married     basic.9y            NA      yes         yes    \n",
              "17 35   blue-collar married     basic.6y            no      yes         no     \n",
              "18 46   blue-collar married     basic.6y            NA      yes         yes    \n",
              "19 50   blue-collar married     basic.9y            no      yes         yes    \n",
              "20 39   management  single      basic.9y            NA      no          no     \n",
              "   Contacto  Mes Día ⋯ NumContactos DíasAtrás Previo ResultadoPrevio EmpTasaVar\n",
              "1  telephone may mon ⋯ 1            999       0      nonexistent     1.1       \n",
              "2  telephone may mon ⋯ 1            999       0      nonexistent     1.1       \n",
              "3  telephone may mon ⋯ 1            999       0      nonexistent     1.1       \n",
              "4  telephone may mon ⋯ 1            999       0      nonexistent     1.1       \n",
              "5  telephone may mon ⋯ 1            999       0      nonexistent     1.1       \n",
              "6  telephone may mon ⋯ 1            999       0      nonexistent     1.1       \n",
              "7  telephone may mon ⋯ 1            999       0      nonexistent     1.1       \n",
              "8  telephone may mon ⋯ 1            999       0      nonexistent     1.1       \n",
              "9  telephone may mon ⋯ 1            999       0      nonexistent     1.1       \n",
              "10 telephone may mon ⋯ 1            999       0      nonexistent     1.1       \n",
              "11 telephone may mon ⋯ 1            999       0      nonexistent     1.1       \n",
              "12 telephone may mon ⋯ 1            999       0      nonexistent     1.1       \n",
              "13 telephone may mon ⋯ 1            999       0      nonexistent     1.1       \n",
              "14 telephone may mon ⋯ 1            999       0      nonexistent     1.1       \n",
              "15 telephone may mon ⋯ 1            999       0      nonexistent     1.1       \n",
              "16 telephone may mon ⋯ 1            999       0      nonexistent     1.1       \n",
              "17 telephone may mon ⋯ 1            999       0      nonexistent     1.1       \n",
              "18 telephone may mon ⋯ 1            999       0      nonexistent     1.1       \n",
              "19 telephone may mon ⋯ 1            999       0      nonexistent     1.1       \n",
              "20 telephone may mon ⋯ 1            999       0      nonexistent     1.1       \n",
              "   IPC    ICC   Euribor3m NumEmpleados OK\n",
              "1  93.994 -36.4 4.857     5191         no\n",
              "2  93.994 -36.4 4.857     5191         no\n",
              "3  93.994 -36.4 4.857     5191         no\n",
              "4  93.994 -36.4 4.857     5191         no\n",
              "5  93.994 -36.4 4.857     5191         no\n",
              "6  93.994 -36.4 4.857     5191         no\n",
              "7  93.994 -36.4 4.857     5191         no\n",
              "8  93.994 -36.4 4.857     5191         no\n",
              "9  93.994 -36.4 4.857     5191         no\n",
              "10 93.994 -36.4 4.857     5191         no\n",
              "11 93.994 -36.4 4.857     5191         no\n",
              "12 93.994 -36.4 4.857     5191         no\n",
              "13 93.994 -36.4 4.857     5191         no\n",
              "14 93.994 -36.4 4.857     5191         no\n",
              "15 93.994 -36.4 4.857     5191         no\n",
              "16 93.994 -36.4 4.857     5191         no\n",
              "17 93.994 -36.4 4.857     5191         no\n",
              "18 93.994 -36.4 4.857     5191         no\n",
              "19 93.994 -36.4 4.857     5191         no\n",
              "20 93.994 -36.4 4.857     5191         no"
            ],
            "text/latex": "A data.frame: 20 × 21\n\\begin{tabular}{r|lllllllllllllllllllll}\n  & Edad & Ocupación & EstadoCivil & Educación & Default & Hipotecario & Consumo & Contacto & Mes & Día & ⋯ & NumContactos & DíasAtrás & Previo & ResultadoPrevio & EmpTasaVar & IPC & ICC & Euribor3m & NumEmpleados & OK\\\\\n  & <int> & <chr> & <chr> & <chr> & <chr> & <chr> & <chr> & <chr> & <chr> & <chr> & ⋯ & <int> & <int> & <int> & <chr> & <dbl> & <dbl> & <dbl> & <dbl> & <dbl> & <chr>\\\\\n\\hline\n\t1 & 56 & housemaid   & married  & basic.4y            & no & no  & no  & telephone & may & mon & ⋯ & 1 & 999 & 0 & nonexistent & 1.1 & 93.994 & -36.4 & 4.857 & 5191 & no\\\\\n\t2 & 57 & services    & married  & high.school         & NA & no  & no  & telephone & may & mon & ⋯ & 1 & 999 & 0 & nonexistent & 1.1 & 93.994 & -36.4 & 4.857 & 5191 & no\\\\\n\t3 & 37 & services    & married  & high.school         & no & yes & no  & telephone & may & mon & ⋯ & 1 & 999 & 0 & nonexistent & 1.1 & 93.994 & -36.4 & 4.857 & 5191 & no\\\\\n\t4 & 40 & admin.      & married  & basic.6y            & no & no  & no  & telephone & may & mon & ⋯ & 1 & 999 & 0 & nonexistent & 1.1 & 93.994 & -36.4 & 4.857 & 5191 & no\\\\\n\t5 & 56 & services    & married  & high.school         & no & no  & yes & telephone & may & mon & ⋯ & 1 & 999 & 0 & nonexistent & 1.1 & 93.994 & -36.4 & 4.857 & 5191 & no\\\\\n\t6 & 45 & services    & married  & basic.9y            & NA & no  & no  & telephone & may & mon & ⋯ & 1 & 999 & 0 & nonexistent & 1.1 & 93.994 & -36.4 & 4.857 & 5191 & no\\\\\n\t7 & 59 & admin.      & married  & professional.course & no & no  & no  & telephone & may & mon & ⋯ & 1 & 999 & 0 & nonexistent & 1.1 & 93.994 & -36.4 & 4.857 & 5191 & no\\\\\n\t8 & 41 & blue-collar & married  & NA                  & NA & no  & no  & telephone & may & mon & ⋯ & 1 & 999 & 0 & nonexistent & 1.1 & 93.994 & -36.4 & 4.857 & 5191 & no\\\\\n\t9 & 24 & technician  & single   & professional.course & no & yes & no  & telephone & may & mon & ⋯ & 1 & 999 & 0 & nonexistent & 1.1 & 93.994 & -36.4 & 4.857 & 5191 & no\\\\\n\t10 & 25 & services    & single   & high.school         & no & yes & no  & telephone & may & mon & ⋯ & 1 & 999 & 0 & nonexistent & 1.1 & 93.994 & -36.4 & 4.857 & 5191 & no\\\\\n\t11 & 41 & blue-collar & married  & NA                  & NA & no  & no  & telephone & may & mon & ⋯ & 1 & 999 & 0 & nonexistent & 1.1 & 93.994 & -36.4 & 4.857 & 5191 & no\\\\\n\t12 & 25 & services    & single   & high.school         & no & yes & no  & telephone & may & mon & ⋯ & 1 & 999 & 0 & nonexistent & 1.1 & 93.994 & -36.4 & 4.857 & 5191 & no\\\\\n\t13 & 29 & blue-collar & single   & high.school         & no & no  & yes & telephone & may & mon & ⋯ & 1 & 999 & 0 & nonexistent & 1.1 & 93.994 & -36.4 & 4.857 & 5191 & no\\\\\n\t14 & 57 & housemaid   & divorced & basic.4y            & no & yes & no  & telephone & may & mon & ⋯ & 1 & 999 & 0 & nonexistent & 1.1 & 93.994 & -36.4 & 4.857 & 5191 & no\\\\\n\t15 & 35 & blue-collar & married  & basic.6y            & no & yes & no  & telephone & may & mon & ⋯ & 1 & 999 & 0 & nonexistent & 1.1 & 93.994 & -36.4 & 4.857 & 5191 & no\\\\\n\t16 & 54 & retired     & married  & basic.9y            & NA & yes & yes & telephone & may & mon & ⋯ & 1 & 999 & 0 & nonexistent & 1.1 & 93.994 & -36.4 & 4.857 & 5191 & no\\\\\n\t17 & 35 & blue-collar & married  & basic.6y            & no & yes & no  & telephone & may & mon & ⋯ & 1 & 999 & 0 & nonexistent & 1.1 & 93.994 & -36.4 & 4.857 & 5191 & no\\\\\n\t18 & 46 & blue-collar & married  & basic.6y            & NA & yes & yes & telephone & may & mon & ⋯ & 1 & 999 & 0 & nonexistent & 1.1 & 93.994 & -36.4 & 4.857 & 5191 & no\\\\\n\t19 & 50 & blue-collar & married  & basic.9y            & no & yes & yes & telephone & may & mon & ⋯ & 1 & 999 & 0 & nonexistent & 1.1 & 93.994 & -36.4 & 4.857 & 5191 & no\\\\\n\t20 & 39 & management  & single   & basic.9y            & NA & no  & no  & telephone & may & mon & ⋯ & 1 & 999 & 0 & nonexistent & 1.1 & 93.994 & -36.4 & 4.857 & 5191 & no\\\\\n\\end{tabular}\n",
            "text/markdown": "\nA data.frame: 20 × 21\n\n| <!--/--> | Edad &lt;int&gt; | Ocupación &lt;chr&gt; | EstadoCivil &lt;chr&gt; | Educación &lt;chr&gt; | Default &lt;chr&gt; | Hipotecario &lt;chr&gt; | Consumo &lt;chr&gt; | Contacto &lt;chr&gt; | Mes &lt;chr&gt; | Día &lt;chr&gt; | ⋯ ⋯ | NumContactos &lt;int&gt; | DíasAtrás &lt;int&gt; | Previo &lt;int&gt; | ResultadoPrevio &lt;chr&gt; | EmpTasaVar &lt;dbl&gt; | IPC &lt;dbl&gt; | ICC &lt;dbl&gt; | Euribor3m &lt;dbl&gt; | NumEmpleados &lt;dbl&gt; | OK &lt;chr&gt; |\n|---|---|---|---|---|---|---|---|---|---|---|---|---|---|---|---|---|---|---|---|---|---|\n| 1 | 56 | housemaid   | married  | basic.4y            | no | no  | no  | telephone | may | mon | ⋯ | 1 | 999 | 0 | nonexistent | 1.1 | 93.994 | -36.4 | 4.857 | 5191 | no |\n| 2 | 57 | services    | married  | high.school         | NA | no  | no  | telephone | may | mon | ⋯ | 1 | 999 | 0 | nonexistent | 1.1 | 93.994 | -36.4 | 4.857 | 5191 | no |\n| 3 | 37 | services    | married  | high.school         | no | yes | no  | telephone | may | mon | ⋯ | 1 | 999 | 0 | nonexistent | 1.1 | 93.994 | -36.4 | 4.857 | 5191 | no |\n| 4 | 40 | admin.      | married  | basic.6y            | no | no  | no  | telephone | may | mon | ⋯ | 1 | 999 | 0 | nonexistent | 1.1 | 93.994 | -36.4 | 4.857 | 5191 | no |\n| 5 | 56 | services    | married  | high.school         | no | no  | yes | telephone | may | mon | ⋯ | 1 | 999 | 0 | nonexistent | 1.1 | 93.994 | -36.4 | 4.857 | 5191 | no |\n| 6 | 45 | services    | married  | basic.9y            | NA | no  | no  | telephone | may | mon | ⋯ | 1 | 999 | 0 | nonexistent | 1.1 | 93.994 | -36.4 | 4.857 | 5191 | no |\n| 7 | 59 | admin.      | married  | professional.course | no | no  | no  | telephone | may | mon | ⋯ | 1 | 999 | 0 | nonexistent | 1.1 | 93.994 | -36.4 | 4.857 | 5191 | no |\n| 8 | 41 | blue-collar | married  | NA                  | NA | no  | no  | telephone | may | mon | ⋯ | 1 | 999 | 0 | nonexistent | 1.1 | 93.994 | -36.4 | 4.857 | 5191 | no |\n| 9 | 24 | technician  | single   | professional.course | no | yes | no  | telephone | may | mon | ⋯ | 1 | 999 | 0 | nonexistent | 1.1 | 93.994 | -36.4 | 4.857 | 5191 | no |\n| 10 | 25 | services    | single   | high.school         | no | yes | no  | telephone | may | mon | ⋯ | 1 | 999 | 0 | nonexistent | 1.1 | 93.994 | -36.4 | 4.857 | 5191 | no |\n| 11 | 41 | blue-collar | married  | NA                  | NA | no  | no  | telephone | may | mon | ⋯ | 1 | 999 | 0 | nonexistent | 1.1 | 93.994 | -36.4 | 4.857 | 5191 | no |\n| 12 | 25 | services    | single   | high.school         | no | yes | no  | telephone | may | mon | ⋯ | 1 | 999 | 0 | nonexistent | 1.1 | 93.994 | -36.4 | 4.857 | 5191 | no |\n| 13 | 29 | blue-collar | single   | high.school         | no | no  | yes | telephone | may | mon | ⋯ | 1 | 999 | 0 | nonexistent | 1.1 | 93.994 | -36.4 | 4.857 | 5191 | no |\n| 14 | 57 | housemaid   | divorced | basic.4y            | no | yes | no  | telephone | may | mon | ⋯ | 1 | 999 | 0 | nonexistent | 1.1 | 93.994 | -36.4 | 4.857 | 5191 | no |\n| 15 | 35 | blue-collar | married  | basic.6y            | no | yes | no  | telephone | may | mon | ⋯ | 1 | 999 | 0 | nonexistent | 1.1 | 93.994 | -36.4 | 4.857 | 5191 | no |\n| 16 | 54 | retired     | married  | basic.9y            | NA | yes | yes | telephone | may | mon | ⋯ | 1 | 999 | 0 | nonexistent | 1.1 | 93.994 | -36.4 | 4.857 | 5191 | no |\n| 17 | 35 | blue-collar | married  | basic.6y            | no | yes | no  | telephone | may | mon | ⋯ | 1 | 999 | 0 | nonexistent | 1.1 | 93.994 | -36.4 | 4.857 | 5191 | no |\n| 18 | 46 | blue-collar | married  | basic.6y            | NA | yes | yes | telephone | may | mon | ⋯ | 1 | 999 | 0 | nonexistent | 1.1 | 93.994 | -36.4 | 4.857 | 5191 | no |\n| 19 | 50 | blue-collar | married  | basic.9y            | no | yes | yes | telephone | may | mon | ⋯ | 1 | 999 | 0 | nonexistent | 1.1 | 93.994 | -36.4 | 4.857 | 5191 | no |\n| 20 | 39 | management  | single   | basic.9y            | NA | no  | no  | telephone | may | mon | ⋯ | 1 | 999 | 0 | nonexistent | 1.1 | 93.994 | -36.4 | 4.857 | 5191 | no |\n\n",
            "text/html": [
              "<table class=\"dataframe\">\n",
              "<caption>A data.frame: 20 × 21</caption>\n",
              "<thead>\n",
              "\t<tr><th></th><th scope=col>Edad</th><th scope=col>Ocupación</th><th scope=col>EstadoCivil</th><th scope=col>Educación</th><th scope=col>Default</th><th scope=col>Hipotecario</th><th scope=col>Consumo</th><th scope=col>Contacto</th><th scope=col>Mes</th><th scope=col>Día</th><th scope=col>⋯</th><th scope=col>NumContactos</th><th scope=col>DíasAtrás</th><th scope=col>Previo</th><th scope=col>ResultadoPrevio</th><th scope=col>EmpTasaVar</th><th scope=col>IPC</th><th scope=col>ICC</th><th scope=col>Euribor3m</th><th scope=col>NumEmpleados</th><th scope=col>OK</th></tr>\n",
              "\t<tr><th></th><th scope=col>&lt;int&gt;</th><th scope=col>&lt;chr&gt;</th><th scope=col>&lt;chr&gt;</th><th scope=col>&lt;chr&gt;</th><th scope=col>&lt;chr&gt;</th><th scope=col>&lt;chr&gt;</th><th scope=col>&lt;chr&gt;</th><th scope=col>&lt;chr&gt;</th><th scope=col>&lt;chr&gt;</th><th scope=col>&lt;chr&gt;</th><th scope=col>⋯</th><th scope=col>&lt;int&gt;</th><th scope=col>&lt;int&gt;</th><th scope=col>&lt;int&gt;</th><th scope=col>&lt;chr&gt;</th><th scope=col>&lt;dbl&gt;</th><th scope=col>&lt;dbl&gt;</th><th scope=col>&lt;dbl&gt;</th><th scope=col>&lt;dbl&gt;</th><th scope=col>&lt;dbl&gt;</th><th scope=col>&lt;chr&gt;</th></tr>\n",
              "</thead>\n",
              "<tbody>\n",
              "\t<tr><th scope=row>1</th><td>56</td><td>housemaid  </td><td>married </td><td>basic.4y           </td><td>no</td><td>no </td><td>no </td><td>telephone</td><td>may</td><td>mon</td><td>⋯</td><td>1</td><td>999</td><td>0</td><td>nonexistent</td><td>1.1</td><td>93.994</td><td>-36.4</td><td>4.857</td><td>5191</td><td>no</td></tr>\n",
              "\t<tr><th scope=row>2</th><td>57</td><td>services   </td><td>married </td><td>high.school        </td><td>NA</td><td>no </td><td>no </td><td>telephone</td><td>may</td><td>mon</td><td>⋯</td><td>1</td><td>999</td><td>0</td><td>nonexistent</td><td>1.1</td><td>93.994</td><td>-36.4</td><td>4.857</td><td>5191</td><td>no</td></tr>\n",
              "\t<tr><th scope=row>3</th><td>37</td><td>services   </td><td>married </td><td>high.school        </td><td>no</td><td>yes</td><td>no </td><td>telephone</td><td>may</td><td>mon</td><td>⋯</td><td>1</td><td>999</td><td>0</td><td>nonexistent</td><td>1.1</td><td>93.994</td><td>-36.4</td><td>4.857</td><td>5191</td><td>no</td></tr>\n",
              "\t<tr><th scope=row>4</th><td>40</td><td>admin.     </td><td>married </td><td>basic.6y           </td><td>no</td><td>no </td><td>no </td><td>telephone</td><td>may</td><td>mon</td><td>⋯</td><td>1</td><td>999</td><td>0</td><td>nonexistent</td><td>1.1</td><td>93.994</td><td>-36.4</td><td>4.857</td><td>5191</td><td>no</td></tr>\n",
              "\t<tr><th scope=row>5</th><td>56</td><td>services   </td><td>married </td><td>high.school        </td><td>no</td><td>no </td><td>yes</td><td>telephone</td><td>may</td><td>mon</td><td>⋯</td><td>1</td><td>999</td><td>0</td><td>nonexistent</td><td>1.1</td><td>93.994</td><td>-36.4</td><td>4.857</td><td>5191</td><td>no</td></tr>\n",
              "\t<tr><th scope=row>6</th><td>45</td><td>services   </td><td>married </td><td>basic.9y           </td><td>NA</td><td>no </td><td>no </td><td>telephone</td><td>may</td><td>mon</td><td>⋯</td><td>1</td><td>999</td><td>0</td><td>nonexistent</td><td>1.1</td><td>93.994</td><td>-36.4</td><td>4.857</td><td>5191</td><td>no</td></tr>\n",
              "\t<tr><th scope=row>7</th><td>59</td><td>admin.     </td><td>married </td><td>professional.course</td><td>no</td><td>no </td><td>no </td><td>telephone</td><td>may</td><td>mon</td><td>⋯</td><td>1</td><td>999</td><td>0</td><td>nonexistent</td><td>1.1</td><td>93.994</td><td>-36.4</td><td>4.857</td><td>5191</td><td>no</td></tr>\n",
              "\t<tr><th scope=row>8</th><td>41</td><td>blue-collar</td><td>married </td><td>NA                 </td><td>NA</td><td>no </td><td>no </td><td>telephone</td><td>may</td><td>mon</td><td>⋯</td><td>1</td><td>999</td><td>0</td><td>nonexistent</td><td>1.1</td><td>93.994</td><td>-36.4</td><td>4.857</td><td>5191</td><td>no</td></tr>\n",
              "\t<tr><th scope=row>9</th><td>24</td><td>technician </td><td>single  </td><td>professional.course</td><td>no</td><td>yes</td><td>no </td><td>telephone</td><td>may</td><td>mon</td><td>⋯</td><td>1</td><td>999</td><td>0</td><td>nonexistent</td><td>1.1</td><td>93.994</td><td>-36.4</td><td>4.857</td><td>5191</td><td>no</td></tr>\n",
              "\t<tr><th scope=row>10</th><td>25</td><td>services   </td><td>single  </td><td>high.school        </td><td>no</td><td>yes</td><td>no </td><td>telephone</td><td>may</td><td>mon</td><td>⋯</td><td>1</td><td>999</td><td>0</td><td>nonexistent</td><td>1.1</td><td>93.994</td><td>-36.4</td><td>4.857</td><td>5191</td><td>no</td></tr>\n",
              "\t<tr><th scope=row>11</th><td>41</td><td>blue-collar</td><td>married </td><td>NA                 </td><td>NA</td><td>no </td><td>no </td><td>telephone</td><td>may</td><td>mon</td><td>⋯</td><td>1</td><td>999</td><td>0</td><td>nonexistent</td><td>1.1</td><td>93.994</td><td>-36.4</td><td>4.857</td><td>5191</td><td>no</td></tr>\n",
              "\t<tr><th scope=row>12</th><td>25</td><td>services   </td><td>single  </td><td>high.school        </td><td>no</td><td>yes</td><td>no </td><td>telephone</td><td>may</td><td>mon</td><td>⋯</td><td>1</td><td>999</td><td>0</td><td>nonexistent</td><td>1.1</td><td>93.994</td><td>-36.4</td><td>4.857</td><td>5191</td><td>no</td></tr>\n",
              "\t<tr><th scope=row>13</th><td>29</td><td>blue-collar</td><td>single  </td><td>high.school        </td><td>no</td><td>no </td><td>yes</td><td>telephone</td><td>may</td><td>mon</td><td>⋯</td><td>1</td><td>999</td><td>0</td><td>nonexistent</td><td>1.1</td><td>93.994</td><td>-36.4</td><td>4.857</td><td>5191</td><td>no</td></tr>\n",
              "\t<tr><th scope=row>14</th><td>57</td><td>housemaid  </td><td>divorced</td><td>basic.4y           </td><td>no</td><td>yes</td><td>no </td><td>telephone</td><td>may</td><td>mon</td><td>⋯</td><td>1</td><td>999</td><td>0</td><td>nonexistent</td><td>1.1</td><td>93.994</td><td>-36.4</td><td>4.857</td><td>5191</td><td>no</td></tr>\n",
              "\t<tr><th scope=row>15</th><td>35</td><td>blue-collar</td><td>married </td><td>basic.6y           </td><td>no</td><td>yes</td><td>no </td><td>telephone</td><td>may</td><td>mon</td><td>⋯</td><td>1</td><td>999</td><td>0</td><td>nonexistent</td><td>1.1</td><td>93.994</td><td>-36.4</td><td>4.857</td><td>5191</td><td>no</td></tr>\n",
              "\t<tr><th scope=row>16</th><td>54</td><td>retired    </td><td>married </td><td>basic.9y           </td><td>NA</td><td>yes</td><td>yes</td><td>telephone</td><td>may</td><td>mon</td><td>⋯</td><td>1</td><td>999</td><td>0</td><td>nonexistent</td><td>1.1</td><td>93.994</td><td>-36.4</td><td>4.857</td><td>5191</td><td>no</td></tr>\n",
              "\t<tr><th scope=row>17</th><td>35</td><td>blue-collar</td><td>married </td><td>basic.6y           </td><td>no</td><td>yes</td><td>no </td><td>telephone</td><td>may</td><td>mon</td><td>⋯</td><td>1</td><td>999</td><td>0</td><td>nonexistent</td><td>1.1</td><td>93.994</td><td>-36.4</td><td>4.857</td><td>5191</td><td>no</td></tr>\n",
              "\t<tr><th scope=row>18</th><td>46</td><td>blue-collar</td><td>married </td><td>basic.6y           </td><td>NA</td><td>yes</td><td>yes</td><td>telephone</td><td>may</td><td>mon</td><td>⋯</td><td>1</td><td>999</td><td>0</td><td>nonexistent</td><td>1.1</td><td>93.994</td><td>-36.4</td><td>4.857</td><td>5191</td><td>no</td></tr>\n",
              "\t<tr><th scope=row>19</th><td>50</td><td>blue-collar</td><td>married </td><td>basic.9y           </td><td>no</td><td>yes</td><td>yes</td><td>telephone</td><td>may</td><td>mon</td><td>⋯</td><td>1</td><td>999</td><td>0</td><td>nonexistent</td><td>1.1</td><td>93.994</td><td>-36.4</td><td>4.857</td><td>5191</td><td>no</td></tr>\n",
              "\t<tr><th scope=row>20</th><td>39</td><td>management </td><td>single  </td><td>basic.9y           </td><td>NA</td><td>no </td><td>no </td><td>telephone</td><td>may</td><td>mon</td><td>⋯</td><td>1</td><td>999</td><td>0</td><td>nonexistent</td><td>1.1</td><td>93.994</td><td>-36.4</td><td>4.857</td><td>5191</td><td>no</td></tr>\n",
              "</tbody>\n",
              "</table>\n"
            ]
          },
          "metadata": {
            "tags": []
          }
        },
        {
          "output_type": "display_data",
          "data": {
            "text/plain": [
              "[1] 41188    21"
            ],
            "text/latex": "\\begin{enumerate*}\n\\item 41188\n\\item 21\n\\end{enumerate*}\n",
            "text/markdown": "1. 41188\n2. 21\n\n\n",
            "text/html": [
              "<style>\n",
              ".list-inline {list-style: none; margin:0; padding: 0}\n",
              ".list-inline>li {display: inline-block}\n",
              ".list-inline>li:not(:last-child)::after {content: \"\\00b7\"; padding: 0 .5ex}\n",
              "</style>\n",
              "<ol class=list-inline><li>41188</li><li>21</li></ol>\n"
            ]
          },
          "metadata": {
            "tags": []
          }
        }
      ]
    },
    {
      "cell_type": "markdown",
      "metadata": {
        "id": "Ihz_3Pj9n_lu"
      },
      "source": [
        "## Paso 3: Complemento de Clasificación Inicial\n",
        "\n",
        "A continuación se implementa un proceso de clasificación inicial, sin alterar el conjunto de ejemplos y teniendo una proporción genérica de hold-out, con 60% de ejemplos para entrenamiento y 40% de ejemplos para evaluación. Se termina ejecutando un Decision Tree, mostrando sus indicadores de desempeño.\n",
        "\n",
        "Esta ejecución de un modelo inicial sirve de comparación, evaluando cuánto influyen las mejoras al dataset y entrenamiento, que son parte de los ejercicios, en el desempeño de otros modelos más adelante."
      ]
    },
    {
      "cell_type": "code",
      "metadata": {
        "id": "pFf68LhyoGkZ",
        "colab": {
          "base_uri": "https://localhost:8080/",
          "height": 1000
        },
        "outputId": "6a3153d0-19db-4d45-96e6-b76c598ac861"
      },
      "source": [
        "# Primero se separa el conjunto de ejemplos (marketing.data) en 2,\n",
        "# uno de entrenamiento y otro de evaluación usando la técnica hold-out,\n",
        "# que consiste en crear dos conjuntos disjuntos en una proporción dada\n",
        "\n",
        "ratio = sample(1:nrow(marketing.data), size = 0.60*nrow(marketing.data)) # Proporción: 60% / 40%\n",
        "training.data = marketing.data[ratio,] \n",
        "testing.data = marketing.data[-ratio,] \n",
        "\n",
        "# Se muestra la cantidad de ejemplos de cada uno de los dos conjuntos (en la proporción indicada)\n",
        "dim(training.data)\n",
        "dim(testing.data)\n",
        "\n",
        "# Luego se entrena un modelo de clasificación Decision Tree usando el conjunto Train\n",
        "# y posteriormente se evalúa con predict() para obtener los indicadores de desempeño\n",
        "\n",
        "library(caret)\n",
        "library(rpart)\n",
        "library(rpart.plot)\n",
        "\n",
        "# Decision Tree\n",
        "DT_model <- rpart(as.factor(OK) ~ ., data=training.data, method=\"class\", minbucket=10)\n",
        "DT_predict <- predict(DT_model, testing.data, type = \"class\")\n",
        "print(\"Resultados Árbol de Decisión\")\n",
        "confusionMatrix(DT_predict, as.factor(testing.data$OK)) \n",
        "rpart.plot(DT_model)\n"
      ],
      "execution_count": null,
      "outputs": [
        {
          "output_type": "display_data",
          "data": {
            "text/plain": [
              "[1] 24712    21"
            ],
            "text/latex": "\\begin{enumerate*}\n\\item 24712\n\\item 21\n\\end{enumerate*}\n",
            "text/markdown": "1. 24712\n2. 21\n\n\n",
            "text/html": [
              "<style>\n",
              ".list-inline {list-style: none; margin:0; padding: 0}\n",
              ".list-inline>li {display: inline-block}\n",
              ".list-inline>li:not(:last-child)::after {content: \"\\00b7\"; padding: 0 .5ex}\n",
              "</style>\n",
              "<ol class=list-inline><li>24712</li><li>21</li></ol>\n"
            ]
          },
          "metadata": {
            "tags": []
          }
        },
        {
          "output_type": "display_data",
          "data": {
            "text/plain": [
              "[1] 16476    21"
            ],
            "text/latex": "\\begin{enumerate*}\n\\item 16476\n\\item 21\n\\end{enumerate*}\n",
            "text/markdown": "1. 16476\n2. 21\n\n\n",
            "text/html": [
              "<style>\n",
              ".list-inline {list-style: none; margin:0; padding: 0}\n",
              ".list-inline>li {display: inline-block}\n",
              ".list-inline>li:not(:last-child)::after {content: \"\\00b7\"; padding: 0 .5ex}\n",
              "</style>\n",
              "<ol class=list-inline><li>16476</li><li>21</li></ol>\n"
            ]
          },
          "metadata": {
            "tags": []
          }
        },
        {
          "output_type": "stream",
          "text": [
            "Loading required package: lattice\n",
            "\n",
            "Loading required package: ggplot2\n",
            "\n",
            "Warning message in system(\"timedatectl\", intern = TRUE):\n",
            "“running command 'timedatectl' had status 1”\n"
          ],
          "name": "stderr"
        },
        {
          "output_type": "stream",
          "text": [
            "[1] \"Resultados Árbol de Decisión\"\n"
          ],
          "name": "stdout"
        },
        {
          "output_type": "display_data",
          "data": {
            "text/plain": [
              "Confusion Matrix and Statistics\n",
              "\n",
              "          Reference\n",
              "Prediction    no   yes\n",
              "       no  14173  1005\n",
              "       yes   439   859\n",
              "                                          \n",
              "               Accuracy : 0.9124          \n",
              "                 95% CI : (0.9079, 0.9166)\n",
              "    No Information Rate : 0.8869          \n",
              "    P-Value [Acc > NIR] : < 2.2e-16       \n",
              "                                          \n",
              "                  Kappa : 0.4966          \n",
              "                                          \n",
              " Mcnemar's Test P-Value : < 2.2e-16       \n",
              "                                          \n",
              "            Sensitivity : 0.9700          \n",
              "            Specificity : 0.4608          \n",
              "         Pos Pred Value : 0.9338          \n",
              "         Neg Pred Value : 0.6618          \n",
              "             Prevalence : 0.8869          \n",
              "         Detection Rate : 0.8602          \n",
              "   Detection Prevalence : 0.9212          \n",
              "      Balanced Accuracy : 0.7154          \n",
              "                                          \n",
              "       'Positive' Class : no              \n",
              "                                          "
            ]
          },
          "metadata": {
            "tags": []
          }
        },
        {
          "output_type": "display_data",
          "data": {
            "image/png": "[encoded data removed]",
            "text/plain": [
              "plot without title"
            ]
          },
          "metadata": {
            "tags": [],
            "image/png": {
              "width": 420,
              "height": 420
            }
          }
        }
      ]
    },
    {
      "cell_type": "markdown",
      "metadata": {
        "id": "iX9lYmofTUJx"
      },
      "source": [
        "\n",
        "\n",
        "---\n",
        "\n",
        "\n",
        "## Ejercicio: Limpieza, balanceo de datos y preparación conjuntos de entrenamiento y evaluación\n",
        "\n",
        "El siguiente código prepara los datos para el entrenamiento y evaluación, realizando algunas operaciones de limpieza de datos y balanceo entre clases. Hay diferentes elementos de análisis y acciones de mejora del dataset, entre los que se incluye (pero no reduce a):\n",
        "\n",
        "*   (A) Ya incluido: eliminación de los registros incompletos (que tienen un 'NA' en alguna columna) con na.omit().\n",
        "*   (B) **Tratamiento y análisis de valores específicos**. Por ej, en el caso de DíasAtrás = 999, que se define como el \"valor nulo\" (no se ha hecho contacto anteriormente), se podría cambiar por otro valor, o tratar en forma diferente, para evitar la idea de que valores grandes son igualmente reales.\n",
        "*   (C) **Balance entre clases**, considerando que el dataset original tiene una gran proporción de clientes que NO compraron, a diferencia de los que SI, se incluye una variable balance_ratio, donde 1.0 implica igualar la cantidad de ejemplos de NO y SI, mientras que agrandar ese valor implica agrandar la cantidad de ejemplos NO por sobre los YES. Nótese que este balance es sólo relevante para el conjunto de entrenamiento y no para el de evaluación o test.\n",
        "\n",
        "**Preguntas**:\n",
        "\n",
        "1.   ¿Qué acciones de limpieza (B) adicionales a (A) se realizaron?\n",
        "2.   ¿Qué proporción (1, >1, <1) de ejemplos NO/YES se eligió y por qué? Entonces, ¿de qué dimensiones quedó el dataset de entrenamiento modificado?\n",
        "\n"
      ]
    },
    {
      "cell_type": "code",
      "metadata": {
        "id": "tLCP0L1mv5pT",
        "colab": {
          "base_uri": "https://localhost:8080/",
          "height": 34
        },
        "outputId": "11228103-8efd-40a5-ae41-32e2ebb348ca"
      },
      "source": [
        "# (A) Se eliminan los registros que tienen algún NA (antes: 'unknown')\n",
        "marketing.clean <- na.omit(marketing.data)\n",
        "dim(marketing.clean) # Sólo quedan poco más de 30.000 filas (de las 41.000 originales)\n",
        "\n",
        "\n",
        "# (B) ¿Qué más se puede y conviene hacer para mejorar la calidad de los datos?\n"
      ],
      "execution_count": null,
      "outputs": [
        {
          "output_type": "display_data",
          "data": {
            "text/plain": [
              "[1] 30488    21"
            ],
            "text/latex": "\\begin{enumerate*}\n\\item 30488\n\\item 21\n\\end{enumerate*}\n",
            "text/markdown": "1. 30488\n2. 21\n\n\n",
            "text/html": [
              "<style>\n",
              ".list-inline {list-style: none; margin:0; padding: 0}\n",
              ".list-inline>li {display: inline-block}\n",
              ".list-inline>li:not(:last-child)::after {content: \"\\00b7\"; padding: 0 .5ex}\n",
              "</style>\n",
              "<ol class=list-inline><li>30488</li><li>21</li></ol>\n"
            ]
          },
          "metadata": {
            "tags": []
          }
        }
      ]
    },
    {
      "cell_type": "code",
      "metadata": {
        "id": "FtDvRkkmpJIS",
        "colab": {
          "base_uri": "https://localhost:8080/",
          "height": 51
        },
        "outputId": "cb378355-13ab-48fa-82f9-41c043c6231a"
      },
      "source": [
        "# Este código arma dos subconjuntos con los datos de cada una de las dos clases.\n",
        "# Se pueden ver los respectivos tamaños al terminar, evidenciando un desbalance.\n",
        "clean.data.OK <- marketing.clean[marketing.clean$OK == 'yes',]  \n",
        "clean.data.NO <- marketing.clean[marketing.clean$OK == 'no',]\n",
        "dim(clean.data.OK) # Se ve que este es el conjunto más pequeño\n",
        "dim(clean.data.NO)"
      ],
      "execution_count": null,
      "outputs": [
        {
          "output_type": "display_data",
          "data": {
            "text/plain": [
              "[1] 3859   21"
            ],
            "text/latex": "\\begin{enumerate*}\n\\item 3859\n\\item 21\n\\end{enumerate*}\n",
            "text/markdown": "1. 3859\n2. 21\n\n\n",
            "text/html": [
              "<style>\n",
              ".list-inline {list-style: none; margin:0; padding: 0}\n",
              ".list-inline>li {display: inline-block}\n",
              ".list-inline>li:not(:last-child)::after {content: \"\\00b7\"; padding: 0 .5ex}\n",
              "</style>\n",
              "<ol class=list-inline><li>3859</li><li>21</li></ol>\n"
            ]
          },
          "metadata": {
            "tags": []
          }
        },
        {
          "output_type": "display_data",
          "data": {
            "text/plain": [
              "[1] 26629    21"
            ],
            "text/latex": "\\begin{enumerate*}\n\\item 26629\n\\item 21\n\\end{enumerate*}\n",
            "text/markdown": "1. 26629\n2. 21\n\n\n",
            "text/html": [
              "<style>\n",
              ".list-inline {list-style: none; margin:0; padding: 0}\n",
              ".list-inline>li {display: inline-block}\n",
              ".list-inline>li:not(:last-child)::after {content: \"\\00b7\"; padding: 0 .5ex}\n",
              "</style>\n",
              "<ol class=list-inline><li>26629</li><li>21</li></ol>\n"
            ]
          },
          "metadata": {
            "tags": []
          }
        }
      ]
    },
    {
      "cell_type": "code",
      "metadata": {
        "id": "8-mX7rVWoOK_",
        "colab": {
          "base_uri": "https://localhost:8080/",
          "height": 85
        },
        "outputId": "d9f5fdb9-8237-43fb-8ae5-fe1d0e0fd737"
      },
      "source": [
        "# (C) Se balancean las clases para entrenar: se busca acercar la cantidad de ejemplos positivos, con los negativos.\n",
        "# Para esto se puede definir la cantidad de ejemplos de la clase más abundante (NO)\n",
        "# en una proporción (balance_ratio) de la cantidad de registros de la clase menos abundante (YES) \n",
        "# balance_ratio = 1.0 implica la misma cantidad para NO y para YES ¿Cuál es la mejor: 1, >1 o <1?\n",
        "\n",
        "##Cambio el ratio a 0.9\n",
        "balance_ratio <- 0.9\n",
        "\n",
        "clean.subdata.OK <- clean.data.OK  # No se aplica sample(): se usan todos los ejemplos de la clase OK (que es la que tiene menos ejemplos)\n",
        "clean.subdata.NO <- clean.data.NO[sample(nrow(clean.data.NO), balance_ratio*dim(clean.data.OK)[1]), ]\n",
        "\n",
        "# Muestra cantidad de ejemplos contenidos en cada subconjunto\n",
        "dim(clean.subdata.OK)\n",
        "dim(clean.subdata.NO)\n",
        "\n",
        "# Se juntan para el conjunto de referencia, ahora más balanceado\n",
        "clean.subdata <- rbind(clean.subdata.OK, clean.subdata.NO)\n",
        "\n",
        "# Ahora se configuran los conjuntos de entrenamiento y testing en una proporción\n",
        "# (por ej: 0.85 = 85% para training y el resto para evaluación o testing)\n",
        "ratio = sample(1:nrow(clean.subdata), size = 0.80*nrow(clean.subdata)) \n",
        "training.data = clean.subdata[ratio,]\n",
        "testing.data = clean.subdata[-ratio,] \n",
        "\n",
        "# Se comparan los tamaños de ejemplos para entrenamiento y evaluación.\n",
        "dim(training.data) \n",
        "dim(testing.data)"
      ],
      "execution_count": null,
      "outputs": [
        {
          "output_type": "display_data",
          "data": {
            "text/plain": [
              "[1] 3859   21"
            ],
            "text/latex": "\\begin{enumerate*}\n\\item 3859\n\\item 21\n\\end{enumerate*}\n",
            "text/markdown": "1. 3859\n2. 21\n\n\n",
            "text/html": [
              "<style>\n",
              ".list-inline {list-style: none; margin:0; padding: 0}\n",
              ".list-inline>li {display: inline-block}\n",
              ".list-inline>li:not(:last-child)::after {content: \"\\00b7\"; padding: 0 .5ex}\n",
              "</style>\n",
              "<ol class=list-inline><li>3859</li><li>21</li></ol>\n"
            ]
          },
          "metadata": {
            "tags": []
          }
        },
        {
          "output_type": "display_data",
          "data": {
            "text/plain": [
              "[1] 3473   21"
            ],
            "text/latex": "\\begin{enumerate*}\n\\item 3473\n\\item 21\n\\end{enumerate*}\n",
            "text/markdown": "1. 3473\n2. 21\n\n\n",
            "text/html": [
              "<style>\n",
              ".list-inline {list-style: none; margin:0; padding: 0}\n",
              ".list-inline>li {display: inline-block}\n",
              ".list-inline>li:not(:last-child)::after {content: \"\\00b7\"; padding: 0 .5ex}\n",
              "</style>\n",
              "<ol class=list-inline><li>3473</li><li>21</li></ol>\n"
            ]
          },
          "metadata": {
            "tags": []
          }
        },
        {
          "output_type": "display_data",
          "data": {
            "text/plain": [
              "[1] 5865   21"
            ],
            "text/latex": "\\begin{enumerate*}\n\\item 5865\n\\item 21\n\\end{enumerate*}\n",
            "text/markdown": "1. 5865\n2. 21\n\n\n",
            "text/html": [
              "<style>\n",
              ".list-inline {list-style: none; margin:0; padding: 0}\n",
              ".list-inline>li {display: inline-block}\n",
              ".list-inline>li:not(:last-child)::after {content: \"\\00b7\"; padding: 0 .5ex}\n",
              "</style>\n",
              "<ol class=list-inline><li>5865</li><li>21</li></ol>\n"
            ]
          },
          "metadata": {
            "tags": []
          }
        },
        {
          "output_type": "display_data",
          "data": {
            "text/plain": [
              "[1] 1467   21"
            ],
            "text/latex": "\\begin{enumerate*}\n\\item 1467\n\\item 21\n\\end{enumerate*}\n",
            "text/markdown": "1. 1467\n2. 21\n\n\n",
            "text/html": [
              "<style>\n",
              ".list-inline {list-style: none; margin:0; padding: 0}\n",
              ".list-inline>li {display: inline-block}\n",
              ".list-inline>li:not(:last-child)::after {content: \"\\00b7\"; padding: 0 .5ex}\n",
              "</style>\n",
              "<ol class=list-inline><li>1467</li><li>21</li></ol>\n"
            ]
          },
          "metadata": {
            "tags": []
          }
        }
      ]
    },
    {
      "cell_type": "markdown",
      "metadata": {
        "id": "82LcskQOnNmH"
      },
      "source": [
        "## Complemento 1: Implementación de un modelo Random Forest para comparar\n",
        "\n",
        "Esta sección implementa un Random Forest, como modelo de clasificación de referencia, cuyo desempeño será comparado con la Red Neuronal más adelante.\n",
        "\n",
        "**Pregunta 3**: Si se compara con el desempeño del Árbol de Decisión en el paso 3 anterior ¿Qué diferencia fundamental (ventaja/desventaja) se ve en los indicadores de desempeño y por qué se podría haber logrado esta diferencia?\n"
      ]
    },
    {
      "cell_type": "markdown",
      "metadata": {
        "id": "EM91HnJqh7D6"
      },
      "source": [
        "**Random Forest**"
      ]
    },
    {
      "cell_type": "code",
      "metadata": {
        "id": "XUkbhaJ0CGDm",
        "colab": {
          "base_uri": "https://localhost:8080/",
          "height": 697
        },
        "outputId": "c05b3bbf-eb75-4802-cfed-dccf2cbd13c0"
      },
      "source": [
        "library(randomForest)\n",
        "library(caret)\n",
        "\n",
        "# Random Forest\n",
        "RF_model <- randomForest(as.factor(OK) ~ ., data=training.data, method=\"class\")\n",
        "RF_predict <- predict(RF_model, testing.data, type = \"class\")\n",
        "confusionMatrix(RF_predict, as.factor(testing.data$OK))"
      ],
      "execution_count": null,
      "outputs": [
        {
          "output_type": "stream",
          "text": [
            "randomForest 4.6-14\n",
            "\n",
            "Type rfNews() to see new features/changes/bug fixes.\n",
            "\n",
            "\n",
            "Attaching package: ‘randomForest’\n",
            "\n",
            "\n",
            "The following object is masked from ‘package:ggplot2’:\n",
            "\n",
            "    margin\n",
            "\n",
            "\n"
          ],
          "name": "stderr"
        },
        {
          "output_type": "display_data",
          "data": {
            "text/plain": [
              "Confusion Matrix and Statistics\n",
              "\n",
              "          Reference\n",
              "Prediction  no yes\n",
              "       no  598  42\n",
              "       yes 112 715\n",
              "                                          \n",
              "               Accuracy : 0.895           \n",
              "                 95% CI : (0.8782, 0.9102)\n",
              "    No Information Rate : 0.516           \n",
              "    P-Value [Acc > NIR] : < 2.2e-16       \n",
              "                                          \n",
              "                  Kappa : 0.7892          \n",
              "                                          \n",
              " Mcnemar's Test P-Value : 2.695e-08       \n",
              "                                          \n",
              "            Sensitivity : 0.8423          \n",
              "            Specificity : 0.9445          \n",
              "         Pos Pred Value : 0.9344          \n",
              "         Neg Pred Value : 0.8646          \n",
              "             Prevalence : 0.4840          \n",
              "         Detection Rate : 0.4076          \n",
              "   Detection Prevalence : 0.4363          \n",
              "      Balanced Accuracy : 0.8934          \n",
              "                                          \n",
              "       'Positive' Class : no              \n",
              "                                          "
            ]
          },
          "metadata": {
            "tags": []
          }
        }
      ]
    },
    {
      "cell_type": "markdown",
      "metadata": {
        "id": "-flpoXgE63fr"
      },
      "source": [
        "\n",
        "---\n",
        "\n",
        "## Complemento 2: Ejercicio de comprobación manual\n",
        "\n",
        "\n",
        "Para verificar que alguno de los modelos realmente predice correctamente, se comprueba con los datos de una persona en particular, pidiendo la predicción al modelo. A continuación hay dos ejemplo, que se puede modificar para ver su resultado, cambiando valores y también, cambiando el modelo a utilizar en la predicción. No se necesita modificar, ni comentar esta parte en la entrega."
      ]
    },
    {
      "cell_type": "code",
      "metadata": {
        "id": "cg-7aIMk64-y"
      },
      "source": [
        "# Ejemplo 1: La predicción debería ser \"NO\"\n",
        "sample_x <- marketing.clean[1,]\n",
        "sample_x[1,1] <- 32       # Edad\n",
        "sample_x[1,2] <- 'admin.' # Ocupación\n",
        "sample_x[1,3] <- 'single' # EstadoCivil\n",
        "sample_x[1,4] <- 'university.degree'  # Educación\n",
        "sample_x\n",
        "\n",
        "prediction <- predict(RF_model, sample_x)\n",
        "prediction\n",
        "\n",
        "\n",
        "\n",
        "# Ejemplo 2: La predicción debería ser \"YES\"\n",
        "sample_x2 <- marketing.clean[1,]\n",
        "sample_x2[1,1] <- 42\n",
        "sample_x2[1,11] <- 600   # Duración\n",
        "sample_x2[1,19] <- 2000  # NumEmpleados \n",
        "sample_x2\n",
        "\n",
        "prediction <- predict(RF_model, sample_x2)\n",
        "prediction\n"
      ],
      "execution_count": null,
      "outputs": []
    }
  ]
}